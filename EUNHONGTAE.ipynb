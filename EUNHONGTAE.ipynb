{
 "cells": [
  {
   "cell_type": "markdown",
   "id": "2c9c6e4d",
   "metadata": {},
   "source": [
    "# 공유"
   ]
  },
  {
   "cell_type": "code",
   "execution_count": null,
   "id": "1ac858b2",
   "metadata": {},
   "outputs": [],
   "source": [
    "# 크롤러 만들기\n",
    "\n",
    "from selenium import webdriver\n",
    "from bs4 import BeautifulSoup\n",
    "\n",
    "from selenium.webdriver.common.by import By\n",
    "from selenium.webdriver.support.ui import WebDriverWait\n",
    "from selenium.webdriver.support import expected_conditions as EC\n",
    "from selenium.webdriver import ActionChains\n",
    "\n",
    "import math\n",
    "import time\n",
    "import pandas as pd"
   ]
  },
  {
   "cell_type": "code",
   "execution_count": null,
   "id": "7975dceb",
   "metadata": {},
   "outputs": [],
   "source": [
    "# datas = []\n",
    "data = {}\n",
    "url = 'https://www.kyobobook.co.kr/bestSellerNew/bestseller.laf?range=1&kind=3&orderClick=DAC&mallGb=KOR&linkClass=A'\n",
    "driver = webdriver.Chrome('C:/test/chromedriver.exe')\n",
    "driver.implicitly_wait(10)\n",
    "driver.get(url)\n",
    "driver.find_element_by_xpath('//*[@id=\"main_contents\"]/div[2]/ul/li[11]/a').click()  # 경제경영 카테코리 클릭\n",
    "book_title, book_category, book_hash_tag, book_introduce, book_publisher, book_year = [], [], [], [], [], []\n",
    "# 연도 변경\n",
    "for y_click in range(1, 11): # 2012년까지 하려면 11로 수정필요\n",
    "    y_click = str(y_click)\n",
    "    driver.find_element_by_xpath('//*[@id=\"main_contents\"]/div[3]/div/span[2]/a').click() # 연도 더보기 클릭\n",
    "    driver.find_element_by_xpath('//*[@id=\"main_contents\"]/div[3]/div/span[2]/ul/li['+y_click+']/a').click()  # 연도 클릭 (for문 필요)\n",
    "    year = driver.find_element_by_xpath('//*[@id=\"main_contents\"]/div[3]/div/span[2]/a').text #연도 텍스트 추출\n",
    "    print('='*10, year, '='*10)\n",
    "    for page in range(2):\n",
    "        parentelement = driver.find_element_by_class_name('list_type01')\n",
    "        book_count = len(parentelement.find_elements_by_class_name('cover'))\n",
    "        for book_list in range(1, book_count+1):  # 책 리스트개수이므로 21로 수정필요\n",
    "            book_year.append(year)\n",
    "            element = WebDriverWait(driver, 10).until(EC.presence_of_element_located((By.XPATH, '//*[@id=\"main_contents\"]/ul/li['+str(book_list)+']/div[2]/div[2]/a')))\n",
    "            element.click()\n",
    "            time.sleep(5)\n",
    "            # 텍스트 크롤링 시작\n",
    "            title = list(driver.find_element_by_xpath('//*[@id=\"container\"]/div[2]/form/div[1]/h1/strong').text.splitlines())  # 책 제목 출력\n",
    "            category = list(driver.find_element_by_xpath('//*[@id=\"container\"]/div[5]/div[1]/div[*]/ul/li/a[1]').text.split(' '))  # 카테고리 출력\n",
    "            hash_tag = list(driver.find_element_by_xpath('//*[@id=\"container\"]/div[5]/div[1]/div[*]/div[2]').text.splitlines())  # 해시태그 출력\n",
    "            introduce = driver.find_element_by_xpath('//*[@id=\"container\"]/div[5]/div[1]/div[*]/div[4]').text  # 소개글 출력\n",
    "            print('='*10, title[0]+' 수집 시작','='*10)\n",
    "            book_title += title\n",
    "            book_category += category\n",
    "            book_hash_tag += hash_tag\n",
    "            book_introduce.append(introduce)\n",
    "            # 출판사 총평\n",
    "            anchor_xpath='''//*[@id=\"container\"]/div[5]/div[1]/div/h2[contains(text(), '출판사 서평')]//following-sibling::div/div/a'''\n",
    "            driver.find_element_by_xpath(anchor_xpath).click()\n",
    "            anchor_xpath = '''//*[@id=\"container\"]/div[5]/div[1]/div/h2[contains(text(), '출판사 서평')]//following-sibling::div/div[2]'''\n",
    "            publisher = driver.find_element_by_xpath(anchor_xpath).text\n",
    "            book_publisher.append(publisher)\n",
    "            print('='*10, '완료','='*10)\n",
    "            time.sleep(3)\n",
    "            driver.back()  # 뒤로가기 버튼\n",
    "            time.sleep(5)\n",
    "        try:\n",
    "            driver.find_element_by_xpath('//*[@id=\"main_contents\"]/div[4]/div[1]/ul/li[2]/a').click() # 2페이지로 이동\n",
    "            time.sleep(3)\n",
    "        except:\n",
    "            pass\n",
    "data[\"year\"] = book_year\n",
    "data[\"book_name\"] = book_title\n",
    "data[\"book_categories\"] = book_category\n",
    "data[\"hash\"] = book_hash_tag\n",
    "data[\"intro\"] = book_introduce\n",
    "data[\"pub\"] = book_publisher\n",
    "data"
   ]
  }
 ],
 "metadata": {
  "kernelspec": {
   "display_name": "Python 3",
   "language": "python",
   "name": "python3"
  },
  "language_info": {
   "codemirror_mode": {
    "name": "ipython",
    "version": 3
   },
   "file_extension": ".py",
   "mimetype": "text/x-python",
   "name": "python",
   "nbconvert_exporter": "python",
   "pygments_lexer": "ipython3",
   "version": "3.8.8"
  }
 },
 "nbformat": 4,
 "nbformat_minor": 5
}
